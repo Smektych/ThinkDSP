{
 "cells": [
  {
   "cell_type": "code",
   "execution_count": 26,
   "id": "fbaa1a9f",
   "metadata": {},
   "outputs": [],
   "source": [
    "import numpy as np\n",
    "import matplotlib.pyplot as plt\n",
    "from thinkdsp import UncorrelatedGaussianNoise\n",
    "from dft import dft\n",
    "from thinkdsp import decorate"
   ]
  },
  {
   "cell_type": "markdown",
   "id": "502ee6ee",
   "metadata": {},
   "source": [
    "Упражнение 7.2"
   ]
  },
  {
   "cell_type": "markdown",
   "id": "57d1e622",
   "metadata": {},
   "source": [
    "Стоит отметить, что функция FFT работает только с сигналами, framerate которых равен значению по степеням двойки."
   ]
  },
  {
   "cell_type": "code",
   "execution_count": 2,
   "id": "e972fb5f",
   "metadata": {},
   "outputs": [],
   "source": [
    "def FFT(ys):\n",
    "    N = len(ys)\n",
    "    if N == 1:\n",
    "        return ys\n",
    "    e = FFT(ys[::2])\n",
    "    o = FFT(ys[1::2])\n",
    "    ns = np.arange(N)\n",
    "    W = np.exp(-2 * np.pi * 1j * ns / N)\n",
    "    return np.tile(e, 2) + W * np.tile(o, 2)"
   ]
  },
  {
   "cell_type": "markdown",
   "id": "90aac262",
   "metadata": {},
   "source": [
    "Сравним результат, который будет получен с помощью рекурсивной функции быстрого преобразования Фурье с результатом, полученным с помощью дискретного преобразования Фурье."
   ]
  },
  {
   "cell_type": "code",
   "execution_count": 20,
   "id": "592a170f",
   "metadata": {},
   "outputs": [],
   "source": [
    "signal = UncorrelatedGaussianNoise()\n",
    "r = 2 ** np.arange(9, 15)\n",
    "waves = []\n",
    "for i in r:\n",
    "    waves.append(signal.make_wave(duration = 1, framerate = i))"
   ]
  },
  {
   "cell_type": "code",
   "execution_count": 30,
   "id": "d7500285",
   "metadata": {},
   "outputs": [],
   "source": [
    "def Speed_Test(func, mode, values):\n",
    "    results = []\n",
    "    for N in waves:\n",
    "        print(len(N.ys))\n",
    "        if (mode):\n",
    "            result = %timeit -r1 -o FFT(N.ys)\n",
    "            value = FFT(N.ys)\n",
    "        else:\n",
    "            result = %timeit -r1 -o dft(N.ys)\n",
    "            value = dft(N.ys)\n",
    "        results.append(result)\n",
    "        values.append(value)\n",
    "        \n",
    "    res = [result.best for result in results]\n",
    "    return res"
   ]
  },
  {
   "cell_type": "code",
   "execution_count": 34,
   "id": "3eac3f94",
   "metadata": {},
   "outputs": [
    {
     "name": "stdout",
     "output_type": "stream",
     "text": [
      "512\n",
      "7.49 ms ± 0 ns per loop (mean ± std. dev. of 1 run, 100 loops each)\n",
      "1024\n",
      "15.4 ms ± 0 ns per loop (mean ± std. dev. of 1 run, 100 loops each)\n",
      "2048\n",
      "29.7 ms ± 0 ns per loop (mean ± std. dev. of 1 run, 10 loops each)\n",
      "4096\n",
      "59.7 ms ± 0 ns per loop (mean ± std. dev. of 1 run, 10 loops each)\n",
      "8192\n",
      "119 ms ± 0 ns per loop (mean ± std. dev. of 1 run, 10 loops each)\n",
      "16384\n",
      "241 ms ± 0 ns per loop (mean ± std. dev. of 1 run, 1 loop each)\n"
     ]
    }
   ],
   "source": [
    "valFFT = []\n",
    "resFFT = Speed_Test(FFT, 1, valFFT)"
   ]
  },
  {
   "cell_type": "code",
   "execution_count": 35,
   "id": "fef70157",
   "metadata": {},
   "outputs": [
    {
     "name": "stdout",
     "output_type": "stream",
     "text": [
      "512\n",
      "15.2 ms ± 0 ns per loop (mean ± std. dev. of 1 run, 100 loops each)\n",
      "1024\n",
      "61.9 ms ± 0 ns per loop (mean ± std. dev. of 1 run, 10 loops each)\n",
      "2048\n",
      "244 ms ± 0 ns per loop (mean ± std. dev. of 1 run, 1 loop each)\n",
      "4096\n",
      "1.02 s ± 0 ns per loop (mean ± std. dev. of 1 run, 1 loop each)\n",
      "8192\n",
      "3.97 s ± 0 ns per loop (mean ± std. dev. of 1 run, 1 loop each)\n",
      "16384\n",
      "15.5 s ± 0 ns per loop (mean ± std. dev. of 1 run, 1 loop each)\n"
     ]
    }
   ],
   "source": [
    "valDFT = []\n",
    "resDFT = Speed_Test(dft, 0, valDFT)"
   ]
  },
  {
   "cell_type": "markdown",
   "id": "f441c174",
   "metadata": {},
   "source": [
    "Видно, что результат полученный обоими методами почти совпадает:"
   ]
  },
  {
   "cell_type": "code",
   "execution_count": 37,
   "id": "4a81e2a3",
   "metadata": {},
   "outputs": [
    {
     "name": "stdout",
     "output_type": "stream",
     "text": [
      "[5.426125383490976e-10, 3.2649018268070488e-09, 1.8653277802594152e-08, 1.0795562447367361e-07, 6.096078773177868e-07, 3.4251888747394415e-06]\n"
     ]
    }
   ],
   "source": [
    "vals = []\n",
    "k = 0\n",
    "while k < len(r):\n",
    "    vals.append(np.sum(np.abs(valDFT[k] - valFFT[k])))\n",
    "    k += 1\n",
    "print (vals)"
   ]
  },
  {
   "cell_type": "markdown",
   "id": "300d808f",
   "metadata": {},
   "source": [
    "На графике видно, что дискретное преобразование Фурье значительно уступает по времени быстрому преобразованию Фурье:"
   ]
  },
  {
   "cell_type": "code",
   "execution_count": 27,
   "id": "1690f651",
   "metadata": {},
   "outputs": [
    {
     "data": {
      "image/png": "[encoded data removed]",
      "text/plain": [
       "<Figure size 640x480 with 1 Axes>"
      ]
     },
     "metadata": {},
     "output_type": "display_data"
    }
   ],
   "source": [
    "plt.plot(r, resFFT, color = \"green\")\n",
    "plt.plot(r, resDFT, color = \"red\")\n",
    "decorate(xlabel = 'Framerates', ylabel = 'Time (s)')"
   ]
  }
 ],
 "metadata": {
  "kernelspec": {
   "display_name": "Python 3",
   "language": "python",
   "name": "python3"
  },
  "language_info": {
   "codemirror_mode": {
    "name": "ipython",
    "version": 3
   },
   "file_extension": ".py",
   "mimetype": "text/x-python",
   "name": "python",
   "nbconvert_exporter": "python",
   "pygments_lexer": "ipython3",
   "version": "3.11.0"
  }
 },
 "nbformat": 4,
 "nbformat_minor": 5
}
